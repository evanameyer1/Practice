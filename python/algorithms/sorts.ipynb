{
 "cells": [
  {
   "cell_type": "markdown",
   "metadata": {},
   "source": [
    "## **Sorting and Algorithms Overview**\n",
    "\n",
    "Sorting Methods Covered: \n",
    "\n",
    "- Bubble Sort\n",
    "- Insertion Sort\n",
    "- Selection Sort\n",
    "- Merge Sort\n",
    "- Quick Sort\n",
    "- Heap Sort\n",
    "- Tim Sort\n",
    "- Radix Sort"
   ]
  },
  {
   "cell_type": "code",
   "execution_count": 1,
   "metadata": {},
   "outputs": [],
   "source": [
    "import random\n",
    "import time"
   ]
  },
  {
   "cell_type": "markdown",
   "metadata": {},
   "source": [
    "#### **Bubble Sort**\n",
    "\n",
    "Description: Bubble Sort compares adjacent elements and swaps them if they are in the wrong order. This process is repeated until the entire list is sorted.\n",
    "\n",
    "Time Complexity: **O(n^2)**\n",
    "\n",
    "Space Complexity: **O(1)**\n",
    "\n",
    "Ideal Use Case: Educational purposes; small datasets where simplicity is more important than efficiency."
   ]
  },
  {
   "cell_type": "code",
   "execution_count": 2,
   "metadata": {},
   "outputs": [],
   "source": [
    "def bubble_sort(arr):\n",
    "    operations = 0  # track how many operations are occurring\n",
    "    start = time.perf_counter()\n",
    "\n",
    "    for i in arr: # iterate through each item\n",
    "        swapped = False  # initialize a boolean variable to allow exiting the loop earlier if the array is already sorted\n",
    "        for j in range(len(arr) - 1):  # iterate through all other items\n",
    "            operations += 1\n",
    "            if arr[j] > arr[j + 1]:  # compare current item to the next item and swap them if the condition is met\n",
    "                arr[j], arr[j + 1] = arr[j + 1], arr[j]  # swap the values\n",
    "                swapped = True\n",
    "        if not swapped:  # if items weren't swapped, exit the loop early\n",
    "            break\n",
    "\n",
    "    end = time.perf_counter()\n",
    "\n",
    "    print(f\"Array length: {len(arr)}\")\n",
    "    print(f\"Total operations: {operations}\")\n",
    "    print(f\"Elapsed time: {end-start:.6f} seconds\")"
   ]
  },
  {
   "cell_type": "markdown",
   "metadata": {},
   "source": [
    "Examples:"
   ]
  },
  {
   "cell_type": "code",
   "execution_count": 3,
   "metadata": {},
   "outputs": [
    {
     "name": "stdout",
     "output_type": "stream",
     "text": [
      "Array length: 21\n",
      "Total operations: 340\n",
      "Elapsed time: 0.000030 seconds\n",
      "[1, 2, 2, 2, 3, 4, 5, 7, 7, 9, 9, 11, 12, 13, 13, 28, 41, 41, 49, 78, 118]\n"
     ]
    }
   ],
   "source": [
    "arr1 = [4, 1, 7, 9, 13, 5, 28, 49, 2, 3, 7, 41, 12, 118, 78, 9, 11, 13, 2, 2, 41]\n",
    "bubble_sort(arr1)\n",
    "print(arr1)"
   ]
  },
  {
   "cell_type": "code",
   "execution_count": 4,
   "metadata": {},
   "outputs": [
    {
     "name": "stdout",
     "output_type": "stream",
     "text": [
      "Array length: 6\n",
      "Total operations: 5\n",
      "Elapsed time: 0.000001 seconds\n",
      "[4, 16, 34, 99, 124, 314]\n"
     ]
    }
   ],
   "source": [
    "arr2 = [4, 16, 34, 99, 124, 314]\n",
    "bubble_sort(arr2)\n",
    "print(arr2)"
   ]
  },
  {
   "cell_type": "code",
   "execution_count": 5,
   "metadata": {},
   "outputs": [
    {
     "name": "stdout",
     "output_type": "stream",
     "text": [
      "Array length: 5000\n",
      "Total operations: 24555088\n",
      "Elapsed time: 1.868331 seconds\n"
     ]
    }
   ],
   "source": [
    "arr3 = random.sample(range(-50000, 50000), 5000)\n",
    "bubble_sort(arr3)"
   ]
  },
  {
   "cell_type": "markdown",
   "metadata": {},
   "source": [
    "#### **Insertion Sort**\n",
    "\n",
    "Description: Insertion Sort builds the final sorted array one item at a time. It is much less efficient on large lists than more advanced algorithms such as quicksort, heapsort, or merge sort.\n",
    "\n",
    "Time Complexity: **O(n^2)** in the worst and average case, **O(n)** in the best case.\n",
    "\n",
    "Space Complexity: **O(1)**\n",
    "\n",
    "Ideal Use Case: Similar to Bubble Sort, Insertion Sort is effective for small datasets or nearly sorted lists."
   ]
  },
  {
   "cell_type": "code",
   "execution_count": 6,
   "metadata": {},
   "outputs": [],
   "source": [
    "def insertion_sort(arr):\n",
    "    operations = 0  # track how many operations are occurring\n",
    "    start = time.perf_counter()\n",
    "\n",
    "    for i in range(len(arr)):  # iterate through each item\n",
    "        for j in range(i, 0, -1):  # iterate backwards starting at the current item back toward the start of the list\n",
    "            operations += 1\n",
    "            if arr[j] > arr[j - 1]:  # break the loop once the previous item is larger than the current\n",
    "                break\n",
    "            arr[j], arr[j - 1] = arr[j - 1], arr[j]  # swap the values\n",
    "\n",
    "    end = time.perf_counter()\n",
    "\n",
    "    print(f\"Array length: {len(arr)}\")\n",
    "    print(f\"Total operations: {operations}\")\n",
    "    print(f\"Elapsed time: {end-start:.6f} seconds\")"
   ]
  },
  {
   "cell_type": "markdown",
   "metadata": {},
   "source": [
    "Examples:"
   ]
  },
  {
   "cell_type": "code",
   "execution_count": 7,
   "metadata": {},
   "outputs": [
    {
     "name": "stdout",
     "output_type": "stream",
     "text": [
      "Array length: 21\n",
      "Total operations: 108\n",
      "Elapsed time: 0.000014 seconds\n",
      "[1, 2, 2, 2, 3, 4, 5, 7, 7, 9, 9, 11, 12, 13, 13, 28, 41, 41, 49, 78, 118]\n"
     ]
    }
   ],
   "source": [
    "arr1 = [4, 1, 7, 9, 13, 5, 28, 49, 2, 3, 7, 41, 12, 118, 78, 9, 11, 13, 2, 2, 41]\n",
    "insertion_sort(arr1)\n",
    "print(arr1)"
   ]
  },
  {
   "cell_type": "code",
   "execution_count": 8,
   "metadata": {},
   "outputs": [
    {
     "name": "stdout",
     "output_type": "stream",
     "text": [
      "Array length: 6\n",
      "Total operations: 5\n",
      "Elapsed time: 0.000002 seconds\n",
      "[4, 16, 34, 99, 124, 314]\n"
     ]
    }
   ],
   "source": [
    "arr2 = [4, 16, 34, 99, 124, 314]\n",
    "insertion_sort(arr2)\n",
    "print(arr2)"
   ]
  },
  {
   "cell_type": "code",
   "execution_count": 9,
   "metadata": {},
   "outputs": [
    {
     "name": "stdout",
     "output_type": "stream",
     "text": [
      "Array length: 5000\n",
      "Total operations: 6205355\n",
      "Elapsed time: 0.727565 seconds\n"
     ]
    }
   ],
   "source": [
    "arr3 = random.sample(range(-50000, 50000), 5000)\n",
    "insertion_sort(arr3)"
   ]
  },
  {
   "cell_type": "markdown",
   "metadata": {},
   "source": [
    "#### **Selection Sort**\n",
    "\n",
    "Description: Selection Sort divides the list into a sorted and an unsorted region. It repeatedly selects the smallest (or largest, depending on the order) element from the unsorted region and moves it to the sorted region.\n",
    "\n",
    "Time Complexity: **O(n^2)**\n",
    "\n",
    "Space Complexity: **O(1)**\n",
    "\n",
    "Ideal Use Case: Similar to bubble sort, educational purposes; not efficient for large datasets."
   ]
  },
  {
   "cell_type": "code",
   "execution_count": 10,
   "metadata": {},
   "outputs": [],
   "source": [
    "def selection_sort(arr):\n",
    "    operations = 0  # track how many operations are occurring\n",
    "    start = time.perf_counter()\n",
    "\n",
    "    for i in range(len(arr)):\n",
    "        min_index = i  # assume the new minimum is the initial index\n",
    "        for j in range(i + 1, len(arr)):\n",
    "            operations += 1\n",
    "            if arr[min_index] > arr[j]:  # check if the current number is the new minimum\n",
    "                min_index = j  # update the desired index to the new minimum\n",
    "        arr[i], arr[min_index] = arr[min_index], arr[i]  # swap the values\n",
    "\n",
    "    end = time.perf_counter()\n",
    "\n",
    "    print(f\"Array length: {len(arr)}\")\n",
    "    print(f\"Total operations: {operations}\")\n",
    "    print(f\"Elapsed time: {end-start:.6f} seconds\")"
   ]
  },
  {
   "cell_type": "markdown",
   "metadata": {},
   "source": [
    "Examples:"
   ]
  },
  {
   "cell_type": "code",
   "execution_count": 11,
   "metadata": {},
   "outputs": [
    {
     "name": "stdout",
     "output_type": "stream",
     "text": [
      "Array length: 21\n",
      "Total operations: 210\n",
      "Elapsed time: 0.000017 seconds\n",
      "[1, 2, 2, 2, 3, 4, 5, 7, 7, 9, 9, 11, 12, 13, 13, 28, 41, 41, 49, 78, 118]\n"
     ]
    }
   ],
   "source": [
    "arr1 = [4, 1, 7, 9, 13, 5, 28, 49, 2, 3, 7, 41, 12, 118, 78, 9, 11, 13, 2, 2, 41]\n",
    "selection_sort(arr1)\n",
    "print(arr1)"
   ]
  },
  {
   "cell_type": "code",
   "execution_count": 12,
   "metadata": {},
   "outputs": [
    {
     "name": "stdout",
     "output_type": "stream",
     "text": [
      "Array length: 6\n",
      "Total operations: 15\n",
      "Elapsed time: 0.000003 seconds\n",
      "[4, 16, 34, 99, 124, 314]\n"
     ]
    }
   ],
   "source": [
    "arr2 = [4, 16, 34, 99, 124, 314]\n",
    "selection_sort(arr2)\n",
    "print(arr2)"
   ]
  },
  {
   "cell_type": "code",
   "execution_count": 13,
   "metadata": {},
   "outputs": [
    {
     "name": "stdout",
     "output_type": "stream",
     "text": [
      "Array length: 5000\n",
      "Total operations: 12497500\n",
      "Elapsed time: 0.608987 seconds\n"
     ]
    }
   ],
   "source": [
    "arr3 = random.sample(range(-50000, 50000), 5000)\n",
    "selection_sort(arr3)"
   ]
  },
  {
   "cell_type": "markdown",
   "metadata": {},
   "source": [
    "#### **Merge Sort**\n",
    "\n",
    "Description: Merge Sort is a divide-and-conquer algorithm that divides the input list into two halves, recursively sorts them, and then merges the sorted halves to produce a sorted list.\n",
    "\n",
    "Time Complexity: **O(n log n)** in all cases.\n",
    "\n",
    "Space Complexity: **O(n)**\n",
    "\n",
    "Ideal Use Case: Efficient for large datasets and provides stable sorting. Well-suited for linked lists."
   ]
  },
  {
   "cell_type": "code",
   "execution_count": 14,
   "metadata": {},
   "outputs": [],
   "source": [
    "def merge_sort(arr):\n",
    "    def _merge_sort(arr, operations=0):\n",
    "        if len(arr) > 1:\n",
    "            mid = len(arr) // 2\n",
    "\n",
    "            one = arr[:mid]\n",
    "            two = arr[mid:]\n",
    "\n",
    "            # Separate operation counts for left and right branches\n",
    "            left_operations = _merge_sort(one, operations)\n",
    "            right_operations = _merge_sort(two, operations)\n",
    "\n",
    "            return merge(arr, one, two, left_operations + right_operations)\n",
    "\n",
    "        return 0  # No operations for a single element\n",
    "\n",
    "    def merge(arr, one, two, operations):\n",
    "        i = j = k = 0\n",
    "        while i < len(one) and j < len(two):\n",
    "            operations += 1\n",
    "            if one[i] < two[j]:\n",
    "                arr[k] = one[i]\n",
    "                i += 1\n",
    "            else:\n",
    "                arr[k] = two[j]\n",
    "                j += 1\n",
    "            k += 1\n",
    "\n",
    "        # Copy the remaining elements, if any\n",
    "        while i < len(one):\n",
    "            operations += 1\n",
    "            arr[k] = one[i]\n",
    "            i += 1\n",
    "            k += 1\n",
    "\n",
    "        while j < len(two):\n",
    "            operations += 1\n",
    "            arr[k] = two[j]\n",
    "            j += 1\n",
    "            k += 1\n",
    "\n",
    "        return operations\n",
    "\n",
    "    start = time.perf_counter()\n",
    "    total_operations = _merge_sort(arr)\n",
    "    end = time.perf_counter()\n",
    "\n",
    "    print(f\"Array length: {len(arr)}\")\n",
    "    print(f\"Total operations: {total_operations}\")\n",
    "    print(f\"Elapsed time: {end-start:.6f} seconds\")"
   ]
  },
  {
   "cell_type": "markdown",
   "metadata": {},
   "source": [
    "Examples:"
   ]
  },
  {
   "cell_type": "code",
   "execution_count": 15,
   "metadata": {},
   "outputs": [
    {
     "name": "stdout",
     "output_type": "stream",
     "text": [
      "Array length: 21\n",
      "Total operations: 94\n",
      "Elapsed time: 0.000025 seconds\n",
      "[1, 2, 2, 2, 3, 4, 5, 7, 7, 9, 9, 11, 12, 13, 13, 28, 41, 41, 49, 78, 118]\n"
     ]
    }
   ],
   "source": [
    "arr1 = [4, 1, 7, 9, 13, 5, 28, 49, 2, 3, 7, 41, 12, 118, 78, 9, 11, 13, 2, 2, 41]\n",
    "merge_sort(arr1)\n",
    "print(arr1)"
   ]
  },
  {
   "cell_type": "code",
   "execution_count": 16,
   "metadata": {},
   "outputs": [
    {
     "name": "stdout",
     "output_type": "stream",
     "text": [
      "Array length: 6\n",
      "Total operations: 16\n",
      "Elapsed time: 0.000007 seconds\n",
      "[4, 16, 34, 99, 124, 314]\n"
     ]
    }
   ],
   "source": [
    "arr2 = [4, 16, 34, 99, 124, 314]\n",
    "merge_sort(arr2)\n",
    "print(arr2)"
   ]
  },
  {
   "cell_type": "code",
   "execution_count": 17,
   "metadata": {},
   "outputs": [
    {
     "name": "stdout",
     "output_type": "stream",
     "text": [
      "Array length: 5000\n",
      "Total operations: 61808\n",
      "Elapsed time: 0.010600 seconds\n"
     ]
    }
   ],
   "source": [
    "arr3 = random.sample(range(-50000, 50000), 5000)\n",
    "merge_sort(arr3)"
   ]
  }
 ],
 "metadata": {
  "kernelspec": {
   "display_name": "Python 3",
   "language": "python",
   "name": "python3"
  },
  "language_info": {
   "codemirror_mode": {
    "name": "ipython",
    "version": 3
   },
   "file_extension": ".py",
   "mimetype": "text/x-python",
   "name": "python",
   "nbconvert_exporter": "python",
   "pygments_lexer": "ipython3",
   "version": "3.9.6"
  }
 },
 "nbformat": 4,
 "nbformat_minor": 2
}

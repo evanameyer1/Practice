{
 "cells": [
  {
   "cell_type": "markdown",
   "metadata": {},
   "source": [
    "## **Sorting and Algorithms Overview**\n",
    "\n",
    "Sorting Methods Covered: \n",
    "\n",
    "- Bubble Sort\n",
    "- Insertion Sort\n",
    "- Selection Sort\n",
    "- Quick Sort\n",
    "- Merge Sort\n",
    "- Heap Sort\n",
    "- Tim Sort\n",
    "- Radix Sort"
   ]
  },
  {
   "cell_type": "markdown",
   "metadata": {},
   "source": [
    "#### **Bubble Sort**\n",
    "\n",
    "Description: Bubble Sort compares adjacent elements and swaps them if they are in the wrong order. This process is repeated until the entire list is sorted.\n",
    "\n",
    "Time Complexity: **O(n^2)**\n",
    "\n",
    "Space Complexity: **O(1)**\n",
    "\n",
    "Ideal Use Case: Educational purposes; small datasets where simplicity is more important than efficiency."
   ]
  },
  {
   "cell_type": "code",
   "execution_count": 1,
   "metadata": {},
   "outputs": [],
   "source": [
    "def bubble_sort(arr):\n",
    "    length = len(arr)\n",
    "    operations = 0 #track how many operations are occurring\n",
    "    for i in range(length): #iterate through each item\n",
    "        swapped = False #initialize a boolean variable to allow to exit the loop earlier if the array is already sorted\n",
    "        for j in range(length - 1): #iterate through all other items\n",
    "            operations += 1 \n",
    "            if (arr[j] > arr[j + 1]): #compare current item to the next item and swap them if condition is met\n",
    "                temp = arr[j + 1] \n",
    "                arr[j + 1] = arr[j] \n",
    "                arr[j] = temp\n",
    "                swapped = True\n",
    "        if (swapped is False): #if items weren't swapped exit the loop early\n",
    "            break\n",
    "    print(operations)"
   ]
  },
  {
   "cell_type": "markdown",
   "metadata": {},
   "source": [
    "Examples:"
   ]
  },
  {
   "cell_type": "code",
   "execution_count": 2,
   "metadata": {},
   "outputs": [
    {
     "name": "stdout",
     "output_type": "stream",
     "text": [
      "340\n",
      "[1, 2, 2, 2, 3, 4, 5, 7, 7, 9, 9, 11, 12, 13, 13, 28, 41, 41, 49, 78, 118]\n"
     ]
    }
   ],
   "source": [
    "arr1 = [4, 1, 7, 9, 13, 5, 28, 49, 2, 3, 7, 41, 12, 118, 78, 9, 11, 13, 2, 2, 41]\n",
    "bubble_sort(arr1)\n",
    "print(arr1)"
   ]
  },
  {
   "cell_type": "code",
   "execution_count": 3,
   "metadata": {},
   "outputs": [
    {
     "name": "stdout",
     "output_type": "stream",
     "text": [
      "5\n",
      "[4, 16, 34, 99, 124, 314]\n"
     ]
    }
   ],
   "source": [
    "arr2 = [4, 16, 34, 99, 124, 314]\n",
    "bubble_sort(arr2)\n",
    "print(arr2)"
   ]
  },
  {
   "cell_type": "markdown",
   "metadata": {},
   "source": [
    "### **Insertion Sort**\n",
    "\n",
    "Description: Insertion Sort builds the final sorted array one item at a time. It is much less efficient on large lists than more advanced algorithms such as quicksort, heapsort, or merge sort.\n",
    "\n",
    "Time Complexity: **O(n^2)** in the worst and average case, **O(n)** in the best case.\n",
    "\n",
    "Space Complexity: **O(1)**\n",
    "\n",
    "Ideal Use Case: Similar to Bubble Sort, Insertion Sort is effective for small datasets or nearly sorted lists."
   ]
  },
  {
   "cell_type": "code",
   "execution_count": 24,
   "metadata": {},
   "outputs": [],
   "source": [
    "def insertion_sort(arr):\n",
    "    operations = 0 #track how many operations are occurring\n",
    "    for i in range(len(arr)): #iterate through each item\n",
    "        for j in range(i, 0, -1): #iterate backwards starting at the current item back toward the start of the list\n",
    "            if (arr[j] > arr[j - 1]): #if \n",
    "                break\n",
    "            operations += 1\n",
    "            temp = arr[j - 1] \n",
    "            arr[j - 1] = arr[j] \n",
    "            arr[j] = temp\n",
    "    print(operations)"
   ]
  },
  {
   "cell_type": "markdown",
   "metadata": {},
   "source": [
    "Examples:"
   ]
  },
  {
   "cell_type": "code",
   "execution_count": 25,
   "metadata": {},
   "outputs": [
    {
     "name": "stdout",
     "output_type": "stream",
     "text": [
      "89\n",
      "[1, 2, 2, 2, 3, 4, 5, 7, 7, 9, 9, 11, 12, 13, 13, 28, 41, 41, 49, 78, 118]\n"
     ]
    }
   ],
   "source": [
    "arr1 = [4, 1, 7, 9, 13, 5, 28, 49, 2, 3, 7, 41, 12, 118, 78, 9, 11, 13, 2, 2, 41]\n",
    "insertion_sort(arr1)\n",
    "print(arr1)"
   ]
  },
  {
   "cell_type": "code",
   "execution_count": 26,
   "metadata": {},
   "outputs": [
    {
     "name": "stdout",
     "output_type": "stream",
     "text": [
      "0\n",
      "[4, 16, 34, 99, 124, 314]\n"
     ]
    }
   ],
   "source": [
    "arr2 = [4, 16, 34, 99, 124, 314]\n",
    "insertion_sort(arr2)\n",
    "print(arr2)"
   ]
  }
 ],
 "metadata": {
  "kernelspec": {
   "display_name": "Python 3",
   "language": "python",
   "name": "python3"
  },
  "language_info": {
   "codemirror_mode": {
    "name": "ipython",
    "version": 3
   },
   "file_extension": ".py",
   "mimetype": "text/x-python",
   "name": "python",
   "nbconvert_exporter": "python",
   "pygments_lexer": "ipython3",
   "version": "3.9.6"
  }
 },
 "nbformat": 4,
 "nbformat_minor": 2
}

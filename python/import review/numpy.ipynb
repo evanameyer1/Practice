{
 "cells": [
  {
   "cell_type": "markdown",
   "metadata": {},
   "source": [
    "## **Numpy Overview and Practice**"
   ]
  },
  {
   "cell_type": "code",
   "execution_count": 1,
   "metadata": {},
   "outputs": [],
   "source": [
    "import numpy as np"
   ]
  },
  {
   "cell_type": "markdown",
   "metadata": {},
   "source": [
    "### **Lists VS NumPy Arrays**\n",
    "\n",
    "**Lists:**\n",
    "- a = [1,3,5]\n",
    "- b = [1,2,3]\n",
    "- a*b = ERROR\n",
    "\n",
    "**NumPy Arrays:**\n",
    "- a = np.array([1,3,5])\n",
    "- b = np.array([1,2,3])\n",
    "- a*b = np.array([1,6,15])\n",
    "\n",
    "**Efficiency Benefits of Numpy Arrays:**\n",
    "- By storing bits of information together rather than including gaps of information, like lists do, NumPy arrays allow CPUS to take advantage of *SIMD (Single Instruction Multiple Data) Vector Processing*. This allows a computer to compute operations across all connected data points, as opposed to applying operations one at a time.\n",
    "- Addtionally, in a process called *\"Effective Cache Utilization\"*, by storing the information together a computer can easily load in all pieces of data at once, as opposed to loading in only relevant pieces and having to reload data in later (like lists)."
   ]
  },
  {
   "cell_type": "markdown",
   "metadata": {},
   "source": [
    "### **The Basics**"
   ]
  },
  {
   "cell_type": "code",
   "execution_count": 2,
   "metadata": {},
   "outputs": [
    {
     "name": "stdout",
     "output_type": "stream",
     "text": [
      "[1 3 5] 1 (3,)\n",
      "[1 2 3] 1 (3,)\n",
      "[ 1  6 15] 1 (3,)\n"
     ]
    }
   ],
   "source": [
    "a = np.array([1,3,5], dtype='int8')\n",
    "print(a, a.ndim, a.shape)\n",
    "b = np.array([1,2,3])\n",
    "print(b, b.ndim, b.shape)\n",
    "c = a*b\n",
    "print(c, c.ndim, c.shape)"
   ]
  },
  {
   "cell_type": "code",
   "execution_count": 3,
   "metadata": {},
   "outputs": [
    {
     "name": "stdout",
     "output_type": "stream",
     "text": [
      "[[ 3  6  9 12 11]\n",
      " [ 2  5  8  2  7]] 2 (2, 5)\n",
      "[[11 15  3 23 45]\n",
      " [ 4 17  2 14 70]] 2 (2, 5)\n",
      "[[ 33  90  27 276 495]\n",
      " [  8  85  16  28 490]] 2 (2, 5)\n"
     ]
    }
   ],
   "source": [
    "d = np.array([[3,6,9,12,11],[2,5,8,2,7]])\n",
    "print(d, d.ndim, d.shape)\n",
    "e = np.array([[11,15,3,23,45],[4,17,2,14,70]])\n",
    "print(e, e.ndim, e.shape)\n",
    "f = d*e\n",
    "print(f, f.ndim, f.shape)"
   ]
  },
  {
   "cell_type": "code",
   "execution_count": 27,
   "metadata": {},
   "outputs": [
    {
     "name": "stdout",
     "output_type": "stream",
     "text": [
      "11\n",
      "3\n",
      "3\n",
      "23\n",
      "45\n",
      "4\n",
      "4\n",
      "2\n",
      "14\n",
      "70\n"
     ]
    }
   ],
   "source": [
    "for x in np.nditer(e):\n",
    "    print(x)"
   ]
  },
  {
   "cell_type": "code",
   "execution_count": 4,
   "metadata": {},
   "outputs": [
    {
     "name": "stdout",
     "output_type": "stream",
     "text": [
      "80 80\n"
     ]
    }
   ],
   "source": [
    "itemsize = d.itemsize\n",
    "size = d.size\n",
    "total_size = size * itemsize\n",
    "nbytes = d.nbytes\n",
    "print(total_size, nbytes)"
   ]
  },
  {
   "cell_type": "markdown",
   "metadata": {},
   "source": [
    "### **Accessing/Altering Elements, Rows, Columns**"
   ]
  },
  {
   "cell_type": "code",
   "execution_count": 5,
   "metadata": {},
   "outputs": [
    {
     "name": "stdout",
     "output_type": "stream",
     "text": [
      "5 2 3\n",
      "[ 33  90  27 276 495] [495 490]\n",
      "[ 6 12]\n"
     ]
    }
   ],
   "source": [
    "elem1 = a[2]\n",
    "elem2 = d[1, 3]\n",
    "elem3 = e[0, -3]\n",
    "print(elem1, elem2, elem3)\n",
    "\n",
    "row = f[0, :]\n",
    "col = f[:, 4]\n",
    "print(row, col)\n",
    "\n",
    "elem4 = d[0, 1:4:2]\n",
    "print(elem4)"
   ]
  },
  {
   "cell_type": "code",
   "execution_count": 6,
   "metadata": {},
   "outputs": [
    {
     "name": "stdout",
     "output_type": "stream",
     "text": [
      "[[ 3  6  9 12 15]\n",
      " [ 2  5  8  2  7]]\n",
      "[[11  3  3 23 45]\n",
      " [ 4  4  2 14 70]]\n"
     ]
    }
   ],
   "source": [
    "d[0,4] = 15\n",
    "print(d)\n",
    "\n",
    "e[:,1] = [3,4]\n",
    "print(e)"
   ]
  },
  {
   "cell_type": "markdown",
   "metadata": {},
   "source": [
    "### **Initializing Different Arrays**"
   ]
  },
  {
   "cell_type": "code",
   "execution_count": 7,
   "metadata": {},
   "outputs": [
    {
     "name": "stdout",
     "output_type": "stream",
     "text": [
      "[[0. 0. 0. 0. 0.]\n",
      " [0. 0. 0. 0. 0.]\n",
      " [0. 0. 0. 0. 0.]]\n",
      "[[[1. 1. 1. 1.]\n",
      "  [1. 1. 1. 1.]\n",
      "  [1. 1. 1. 1.]\n",
      "  [1. 1. 1. 1.]]\n",
      "\n",
      " [[1. 1. 1. 1.]\n",
      "  [1. 1. 1. 1.]\n",
      "  [1. 1. 1. 1.]\n",
      "  [1. 1. 1. 1.]]]\n",
      "[[75 75]\n",
      " [75 75]]\n",
      "[4 4 4]\n"
     ]
    }
   ],
   "source": [
    "zeros = np.zeros((3,5))\n",
    "print(zeros)\n",
    "\n",
    "ones = np.ones((2, 4, 4))\n",
    "print(ones)\n",
    "\n",
    "full = np.full((2, 2), 75)\n",
    "print(full)\n",
    "\n",
    "full_like = np.full_like(a, 4)\n",
    "print(full_like)"
   ]
  },
  {
   "cell_type": "code",
   "execution_count": 8,
   "metadata": {},
   "outputs": [
    {
     "name": "stdout",
     "output_type": "stream",
     "text": [
      "[[0.36827756 0.70722853 0.49597187]\n",
      " [0.67909788 0.16467018 0.54993919]\n",
      " [0.20657895 0.03085401 0.7460448 ]\n",
      " [0.09756431 0.28629321 0.85247266]\n",
      " [0.12511054 0.75621178 0.45353805]]\n",
      "[[ 4  1  1]\n",
      " [ 1 -1  3]\n",
      " [ 3 -3 -5]]\n",
      "[[1. 0. 0. 0.]\n",
      " [0. 1. 0. 0.]\n",
      " [0. 0. 1. 0.]\n",
      " [0. 0. 0. 1.]]\n"
     ]
    }
   ],
   "source": [
    "rand = np.random.rand(5, 3)\n",
    "print(rand)\n",
    "\n",
    "randint = np.random.randint(-5, 5, size=(3,3))\n",
    "print(randint)\n",
    "\n",
    "identity = np.identity(4)\n",
    "print(identity)"
   ]
  },
  {
   "cell_type": "code",
   "execution_count": 9,
   "metadata": {},
   "outputs": [
    {
     "name": "stdout",
     "output_type": "stream",
     "text": [
      "[0 1 2 3 4 5 6 7 8 9]\n",
      "[0 1 2 3 4 5 6 7 8 9]\n",
      "[0 2 4 6 8]\n",
      "[1 1 1 2 2 2 3 3 3]\n"
     ]
    }
   ],
   "source": [
    "mylist = [0,1,2,3,4,5,6,7,8,9]\n",
    "myarr = np.array(mylist)\n",
    "print(myarr)\n",
    "\n",
    "arange = np.arange(10)\n",
    "print(arange)\n",
    "\n",
    "arange_step = np.arange(0,10,2)\n",
    "print(arange_step)\n",
    "\n",
    "arr = np.array([1,2,3])\n",
    "r1 = np.repeat(arr,3,axis=0)\n",
    "print(r1)"
   ]
  },
  {
   "cell_type": "markdown",
   "metadata": {},
   "source": [
    "### **Practice Array Manipulation**"
   ]
  },
  {
   "cell_type": "code",
   "execution_count": 10,
   "metadata": {},
   "outputs": [
    {
     "name": "stdout",
     "output_type": "stream",
     "text": [
      "[[1 1 1 1 1]\n",
      " [1 0 0 0 1]\n",
      " [1 0 9 0 1]\n",
      " [1 0 0 0 1]\n",
      " [1 1 1 1 1]]\n"
     ]
    }
   ],
   "source": [
    "base = np.ones((5,5), dtype='int16')\n",
    "middle = np.zeros((3,3), dtype=\"int16\")\n",
    "middle[1,1] = 9\n",
    "base[1:4,1:4] = middle\n",
    "print(base)"
   ]
  },
  {
   "cell_type": "markdown",
   "metadata": {},
   "source": [
    "### **Mathematics**"
   ]
  },
  {
   "cell_type": "code",
   "execution_count": 21,
   "metadata": {},
   "outputs": [
    {
     "name": "stdout",
     "output_type": "stream",
     "text": [
      "[1.5 2.  2.5 3. ]\n",
      "[ 9 18 27 36]\n"
     ]
    }
   ],
   "source": [
    "a = np.array([1,2,3,4])\n",
    "print((a + 2) / 2)\n",
    "\n",
    "b = np.array([10,20,30,40])\n",
    "print(b - a)"
   ]
  },
  {
   "cell_type": "code",
   "execution_count": 22,
   "metadata": {},
   "outputs": [
    {
     "name": "stdout",
     "output_type": "stream",
     "text": [
      "[ 0.84147098  0.90929743  0.14112001 -0.7568025 ]\n",
      "[-0.83907153  0.40808206  0.15425145 -0.66693806]\n",
      "[2.30258509 2.99573227 3.40119738 3.68887945]\n"
     ]
    }
   ],
   "source": [
    "sin = np.sin(a)\n",
    "print(sin)\n",
    "\n",
    "cos = np.cos(b)\n",
    "print(cos)\n",
    "\n",
    "log = np.log(b)\n",
    "print(log)"
   ]
  },
  {
   "cell_type": "code",
   "execution_count": 20,
   "metadata": {},
   "outputs": [
    {
     "name": "stdout",
     "output_type": "stream",
     "text": [
      "[[1.41421356 1.41421356]\n",
      " [1.41421356 1.41421356]\n",
      " [1.41421356 1.41421356]]\n",
      "[[2 2]\n",
      " [2 2]\n",
      " [2 2]]\n",
      "[[7.3890561 7.3890561]\n",
      " [7.3890561 7.3890561]\n",
      " [7.3890561 7.3890561]]\n",
      "[-1 -1 -1 -1 -1  0  1  1  1  1]\n"
     ]
    }
   ],
   "source": [
    "sqrt = np.sqrt(b)\n",
    "print(sqrt)\n",
    "\n",
    "absolute = np.absolute(b)\n",
    "print(absolute)\n",
    "\n",
    "exponents = np.exp(b)\n",
    "print(exponents)\n",
    "\n",
    "test = np.arange(-5, 5)\n",
    "sign = np.sign(test)\n",
    "print(sign)"
   ]
  },
  {
   "cell_type": "code",
   "execution_count": 15,
   "metadata": {},
   "outputs": [
    {
     "name": "stdout",
     "output_type": "stream",
     "text": [
      "1\n",
      "[3 6]\n",
      "[5 7 9]\n"
     ]
    }
   ],
   "source": [
    "stats = np.array([[1,2,3],[4,5,6]])\n",
    "min = np.min(stats)\n",
    "print(min)\n",
    "\n",
    "max = np.max(stats, axis=1)\n",
    "print(max)\n",
    "\n",
    "sum = np.sum(stats, axis=0)\n",
    "print(sum)"
   ]
  },
  {
   "cell_type": "markdown",
   "metadata": {},
   "source": [
    "#### ***Linear Algebra***"
   ]
  },
  {
   "cell_type": "code",
   "execution_count": 13,
   "metadata": {},
   "outputs": [
    {
     "name": "stdout",
     "output_type": "stream",
     "text": [
      "[[1. 1. 1.]\n",
      " [1. 1. 1.]]\n",
      "[[2 2]\n",
      " [2 2]\n",
      " [2 2]]\n"
     ]
    },
    {
     "data": {
      "text/plain": [
       "array([[6., 6.],\n",
       "       [6., 6.]])"
      ]
     },
     "execution_count": 13,
     "metadata": {},
     "output_type": "execute_result"
    }
   ],
   "source": [
    "# Matrix Multiplication\n",
    "a = np.ones((2,3))\n",
    "print(a)\n",
    "\n",
    "b = np.full((3,2), 2)\n",
    "print(b)\n",
    "\n",
    "np.matmul(a,b)"
   ]
  },
  {
   "cell_type": "code",
   "execution_count": 14,
   "metadata": {},
   "outputs": [
    {
     "data": {
      "text/plain": [
       "1.0"
      ]
     },
     "execution_count": 14,
     "metadata": {},
     "output_type": "execute_result"
    }
   ],
   "source": [
    "# Find the Determinant\n",
    "c = np.identity(3)\n",
    "np.linalg.det(c)"
   ]
  },
  {
   "cell_type": "markdown",
   "metadata": {},
   "source": [
    "### **Reorganizing Arrays**"
   ]
  },
  {
   "cell_type": "code",
   "execution_count": 16,
   "metadata": {},
   "outputs": [
    {
     "name": "stdout",
     "output_type": "stream",
     "text": [
      "[[1 2 3 4]\n",
      " [5 6 7 8]]\n",
      "[[[1 2]\n",
      "  [3 4]]\n",
      "\n",
      " [[5 6]\n",
      "  [7 8]]]\n"
     ]
    }
   ],
   "source": [
    "before = np.array([[1,2,3,4],[5,6,7,8]])\n",
    "print(before)\n",
    "\n",
    "after = before.reshape((2,2,2))\n",
    "print(after)"
   ]
  },
  {
   "cell_type": "code",
   "execution_count": 17,
   "metadata": {},
   "outputs": [
    {
     "data": {
      "text/plain": [
       "array([[1, 2, 3, 4],\n",
       "       [5, 6, 7, 8],\n",
       "       [1, 2, 3, 4],\n",
       "       [5, 6, 7, 8]])"
      ]
     },
     "execution_count": 17,
     "metadata": {},
     "output_type": "execute_result"
    }
   ],
   "source": [
    "# Vertically stacking vectors\n",
    "v1 = np.array([1,2,3,4])\n",
    "v2 = np.array([5,6,7,8])\n",
    "\n",
    "np.vstack([v1,v2,v1,v2])"
   ]
  },
  {
   "cell_type": "code",
   "execution_count": 18,
   "metadata": {},
   "outputs": [
    {
     "data": {
      "text/plain": [
       "array([[1., 1., 1., 1., 0., 0.],\n",
       "       [1., 1., 1., 1., 0., 0.]])"
      ]
     },
     "execution_count": 18,
     "metadata": {},
     "output_type": "execute_result"
    }
   ],
   "source": [
    "# Horizontal stacking vectors\n",
    "h1 = np.ones((2,4))\n",
    "h2 = np.zeros((2,2))\n",
    "\n",
    "np.hstack((h1,h2))"
   ]
  },
  {
   "cell_type": "markdown",
   "metadata": {},
   "source": [
    "### **Copy VS View**"
   ]
  },
  {
   "cell_type": "code",
   "execution_count": 25,
   "metadata": {},
   "outputs": [
    {
     "name": "stdout",
     "output_type": "stream",
     "text": [
      "[ 0  1 41  3  4  5] [ 0  1 41  3  4  5]\n"
     ]
    }
   ],
   "source": [
    "np1 = np.array([0,1,2,3,4,5])\n",
    "np2 = np1.view()\n",
    "np1[2] = 41\n",
    "print(np1, np2)"
   ]
  },
  {
   "cell_type": "code",
   "execution_count": 26,
   "metadata": {},
   "outputs": [
    {
     "name": "stdout",
     "output_type": "stream",
     "text": [
      "[ 0  1 41  3  4  5] [0 1 2 3 4 5]\n"
     ]
    }
   ],
   "source": [
    "np1 = np.array([0,1,2,3,4,5])\n",
    "np2 = np1.copy()\n",
    "np1[2] = 41\n",
    "print(np1, np2)"
   ]
  },
  {
   "cell_type": "markdown",
   "metadata": {},
   "source": [
    "### **Sorting, Searching, and Filtering**"
   ]
  },
  {
   "cell_type": "code",
   "execution_count": 30,
   "metadata": {},
   "outputs": [
    {
     "name": "stdout",
     "output_type": "stream",
     "text": [
      "[[ 1  3 -2  2 -5 -5 -4  2]\n",
      " [-1 -3 -5  4  3 -2  3  2]]\n",
      "[[-5 -5 -4 -2  1  2  2  3]\n",
      " [-5 -3 -2 -1  2  3  3  4]]\n"
     ]
    }
   ],
   "source": [
    "np1 = np.random.randint(-5, 5, size=(2,8))\n",
    "print(np1)\n",
    "print(np.sort(np1))"
   ]
  },
  {
   "cell_type": "code",
   "execution_count": 38,
   "metadata": {},
   "outputs": [
    {
     "name": "stdout",
     "output_type": "stream",
     "text": [
      "[0 1 1] [1 4 6]\n"
     ]
    }
   ],
   "source": [
    "index = np.where(np1 == 3)\n",
    "print(index[0], index[1])"
   ]
  },
  {
   "cell_type": "code",
   "execution_count": 39,
   "metadata": {},
   "outputs": [
    {
     "name": "stdout",
     "output_type": "stream",
     "text": [
      "[0 0 0 0 1 1 1] [2 3 6 7 3 5 7]\n"
     ]
    }
   ],
   "source": [
    "index = np.where(np1 % 2 == 0)\n",
    "print(index[0], index[1])"
   ]
  },
  {
   "cell_type": "code",
   "execution_count": 47,
   "metadata": {},
   "outputs": [
    {
     "name": "stdout",
     "output_type": "stream",
     "text": [
      "[-2  2 -4  2  4 -2  2]\n",
      "[[False False  True  True False False  True  True]\n",
      " [False False False  True False  True False  True]]\n",
      "[-2  2 -4  2  4 -2  2]\n"
     ]
    }
   ],
   "source": [
    "filtered1 = np1[index]\n",
    "print(filtered1)\n",
    "\n",
    "filter = np1 % 2 == 0\n",
    "filtered2 = np1[filter]\n",
    "print(filter)\n",
    "print(filtered2)"
   ]
  }
 ],
 "metadata": {
  "kernelspec": {
   "display_name": "Python 3",
   "language": "python",
   "name": "python3"
  },
  "language_info": {
   "codemirror_mode": {
    "name": "ipython",
    "version": 3
   },
   "file_extension": ".py",
   "mimetype": "text/x-python",
   "name": "python",
   "nbconvert_exporter": "python",
   "pygments_lexer": "ipython3",
   "version": "3.9.6"
  }
 },
 "nbformat": 4,
 "nbformat_minor": 2
}

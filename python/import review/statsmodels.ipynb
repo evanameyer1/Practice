{
 "cells": [
  {
   "cell_type": "markdown",
   "metadata": {},
   "source": [
    "## **Statsmodels Overview and Practice**"
   ]
  },
  {
   "cell_type": "code",
   "execution_count": 1,
   "metadata": {},
   "outputs": [],
   "source": [
    "import numpy as np \n",
    "import pandas as pd \n",
    "import statsmodels.api as sm\n",
    "import statsmodels.formula.api as smf"
   ]
  },
  {
   "cell_type": "markdown",
   "metadata": {},
   "source": [
    "#### **The Basics**"
   ]
  },
  {
   "cell_type": "code",
   "execution_count": 2,
   "metadata": {},
   "outputs": [
    {
     "data": {
      "text/html": [
       "<div>\n",
       "<style scoped>\n",
       "    .dataframe tbody tr th:only-of-type {\n",
       "        vertical-align: middle;\n",
       "    }\n",
       "\n",
       "    .dataframe tbody tr th {\n",
       "        vertical-align: top;\n",
       "    }\n",
       "\n",
       "    .dataframe thead th {\n",
       "        text-align: right;\n",
       "    }\n",
       "</style>\n",
       "<table border=\"1\" class=\"dataframe\">\n",
       "  <thead>\n",
       "    <tr style=\"text-align: right;\">\n",
       "      <th></th>\n",
       "      <th>dept</th>\n",
       "      <th>Region</th>\n",
       "      <th>Department</th>\n",
       "      <th>Crime_pers</th>\n",
       "      <th>Crime_prop</th>\n",
       "      <th>Literacy</th>\n",
       "      <th>Donations</th>\n",
       "      <th>Infants</th>\n",
       "      <th>Suicides</th>\n",
       "      <th>MainCity</th>\n",
       "      <th>...</th>\n",
       "      <th>Crime_parents</th>\n",
       "      <th>Infanticide</th>\n",
       "      <th>Donation_clergy</th>\n",
       "      <th>Lottery</th>\n",
       "      <th>Desertion</th>\n",
       "      <th>Instruction</th>\n",
       "      <th>Prostitutes</th>\n",
       "      <th>Distance</th>\n",
       "      <th>Area</th>\n",
       "      <th>Pop1831</th>\n",
       "    </tr>\n",
       "  </thead>\n",
       "  <tbody>\n",
       "    <tr>\n",
       "      <th>0</th>\n",
       "      <td>1</td>\n",
       "      <td>E</td>\n",
       "      <td>Ain</td>\n",
       "      <td>28870</td>\n",
       "      <td>15890</td>\n",
       "      <td>37</td>\n",
       "      <td>5098</td>\n",
       "      <td>33120</td>\n",
       "      <td>35039</td>\n",
       "      <td>2:Med</td>\n",
       "      <td>...</td>\n",
       "      <td>71</td>\n",
       "      <td>60</td>\n",
       "      <td>69</td>\n",
       "      <td>41</td>\n",
       "      <td>55</td>\n",
       "      <td>46</td>\n",
       "      <td>13</td>\n",
       "      <td>218.372</td>\n",
       "      <td>5762</td>\n",
       "      <td>346.03</td>\n",
       "    </tr>\n",
       "    <tr>\n",
       "      <th>1</th>\n",
       "      <td>2</td>\n",
       "      <td>N</td>\n",
       "      <td>Aisne</td>\n",
       "      <td>26226</td>\n",
       "      <td>5521</td>\n",
       "      <td>51</td>\n",
       "      <td>8901</td>\n",
       "      <td>14572</td>\n",
       "      <td>12831</td>\n",
       "      <td>2:Med</td>\n",
       "      <td>...</td>\n",
       "      <td>4</td>\n",
       "      <td>82</td>\n",
       "      <td>36</td>\n",
       "      <td>38</td>\n",
       "      <td>82</td>\n",
       "      <td>24</td>\n",
       "      <td>327</td>\n",
       "      <td>65.945</td>\n",
       "      <td>7369</td>\n",
       "      <td>513.00</td>\n",
       "    </tr>\n",
       "    <tr>\n",
       "      <th>2</th>\n",
       "      <td>3</td>\n",
       "      <td>C</td>\n",
       "      <td>Allier</td>\n",
       "      <td>26747</td>\n",
       "      <td>7925</td>\n",
       "      <td>13</td>\n",
       "      <td>10973</td>\n",
       "      <td>17044</td>\n",
       "      <td>114121</td>\n",
       "      <td>2:Med</td>\n",
       "      <td>...</td>\n",
       "      <td>46</td>\n",
       "      <td>42</td>\n",
       "      <td>76</td>\n",
       "      <td>66</td>\n",
       "      <td>16</td>\n",
       "      <td>85</td>\n",
       "      <td>34</td>\n",
       "      <td>161.927</td>\n",
       "      <td>7340</td>\n",
       "      <td>298.26</td>\n",
       "    </tr>\n",
       "    <tr>\n",
       "      <th>3</th>\n",
       "      <td>4</td>\n",
       "      <td>E</td>\n",
       "      <td>Basses-Alpes</td>\n",
       "      <td>12935</td>\n",
       "      <td>7289</td>\n",
       "      <td>46</td>\n",
       "      <td>2733</td>\n",
       "      <td>23018</td>\n",
       "      <td>14238</td>\n",
       "      <td>1:Sm</td>\n",
       "      <td>...</td>\n",
       "      <td>70</td>\n",
       "      <td>12</td>\n",
       "      <td>37</td>\n",
       "      <td>80</td>\n",
       "      <td>32</td>\n",
       "      <td>29</td>\n",
       "      <td>2</td>\n",
       "      <td>351.399</td>\n",
       "      <td>6925</td>\n",
       "      <td>155.90</td>\n",
       "    </tr>\n",
       "    <tr>\n",
       "      <th>4</th>\n",
       "      <td>5</td>\n",
       "      <td>E</td>\n",
       "      <td>Hautes-Alpes</td>\n",
       "      <td>17488</td>\n",
       "      <td>8174</td>\n",
       "      <td>69</td>\n",
       "      <td>6962</td>\n",
       "      <td>23076</td>\n",
       "      <td>16171</td>\n",
       "      <td>1:Sm</td>\n",
       "      <td>...</td>\n",
       "      <td>22</td>\n",
       "      <td>23</td>\n",
       "      <td>64</td>\n",
       "      <td>79</td>\n",
       "      <td>35</td>\n",
       "      <td>7</td>\n",
       "      <td>1</td>\n",
       "      <td>320.280</td>\n",
       "      <td>5549</td>\n",
       "      <td>129.10</td>\n",
       "    </tr>\n",
       "  </tbody>\n",
       "</table>\n",
       "<p>5 rows × 23 columns</p>\n",
       "</div>"
      ],
      "text/plain": [
       "   dept Region    Department  Crime_pers  Crime_prop  Literacy  Donations  \\\n",
       "0     1      E           Ain       28870       15890        37       5098   \n",
       "1     2      N         Aisne       26226        5521        51       8901   \n",
       "2     3      C        Allier       26747        7925        13      10973   \n",
       "3     4      E  Basses-Alpes       12935        7289        46       2733   \n",
       "4     5      E  Hautes-Alpes       17488        8174        69       6962   \n",
       "\n",
       "   Infants  Suicides MainCity  ...  Crime_parents  Infanticide  \\\n",
       "0    33120     35039    2:Med  ...             71           60   \n",
       "1    14572     12831    2:Med  ...              4           82   \n",
       "2    17044    114121    2:Med  ...             46           42   \n",
       "3    23018     14238     1:Sm  ...             70           12   \n",
       "4    23076     16171     1:Sm  ...             22           23   \n",
       "\n",
       "   Donation_clergy  Lottery  Desertion  Instruction  Prostitutes  Distance  \\\n",
       "0               69       41         55           46           13   218.372   \n",
       "1               36       38         82           24          327    65.945   \n",
       "2               76       66         16           85           34   161.927   \n",
       "3               37       80         32           29            2   351.399   \n",
       "4               64       79         35            7            1   320.280   \n",
       "\n",
       "   Area  Pop1831  \n",
       "0  5762   346.03  \n",
       "1  7369   513.00  \n",
       "2  7340   298.26  \n",
       "3  6925   155.90  \n",
       "4  5549   129.10  \n",
       "\n",
       "[5 rows x 23 columns]"
      ]
     },
     "execution_count": 2,
     "metadata": {},
     "output_type": "execute_result"
    }
   ],
   "source": [
    "data = sm.datasets.get_rdataset(\"Guerry\", \"HistData\").data\n",
    "data.head()"
   ]
  },
  {
   "cell_type": "code",
   "execution_count": 3,
   "metadata": {},
   "outputs": [
    {
     "data": {
      "text/plain": [
       "Index(['dept', 'Region', 'Department', 'Crime_pers', 'Crime_prop', 'Literacy',\n",
       "       'Donations', 'Infants', 'Suicides', 'MainCity', 'Wealth', 'Commerce',\n",
       "       'Clergy', 'Crime_parents', 'Infanticide', 'Donation_clergy', 'Lottery',\n",
       "       'Desertion', 'Instruction', 'Prostitutes', 'Distance', 'Area',\n",
       "       'Pop1831'],\n",
       "      dtype='object')"
      ]
     },
     "execution_count": 3,
     "metadata": {},
     "output_type": "execute_result"
    }
   ],
   "source": [
    "data.columns"
   ]
  },
  {
   "cell_type": "code",
   "execution_count": 4,
   "metadata": {},
   "outputs": [
    {
     "name": "stdout",
     "output_type": "stream",
     "text": [
      "                            OLS Regression Results                            \n",
      "==============================================================================\n",
      "Dep. Variable:                Lottery   R-squared:                       0.348\n",
      "Model:                            OLS   Adj. R-squared:                  0.333\n",
      "Method:                 Least Squares   F-statistic:                     22.20\n",
      "Date:                Fri, 29 Dec 2023   Prob (F-statistic):           1.90e-08\n",
      "Time:                        03:14:19   Log-Likelihood:                -379.82\n",
      "No. Observations:                  86   AIC:                             765.6\n",
      "Df Residuals:                      83   BIC:                             773.0\n",
      "Df Model:                           2                                         \n",
      "Covariance Type:            nonrobust                                         \n",
      "===================================================================================\n",
      "                      coef    std err          t      P>|t|      [0.025      0.975]\n",
      "-----------------------------------------------------------------------------------\n",
      "Intercept         246.4341     35.233      6.995      0.000     176.358     316.510\n",
      "Literacy           -0.4889      0.128     -3.832      0.000      -0.743      -0.235\n",
      "np.log(Pop1831)   -31.3114      5.977     -5.239      0.000     -43.199     -19.424\n",
      "==============================================================================\n",
      "Omnibus:                        3.713   Durbin-Watson:                   2.019\n",
      "Prob(Omnibus):                  0.156   Jarque-Bera (JB):                3.394\n",
      "Skew:                          -0.487   Prob(JB):                        0.183\n",
      "Kurtosis:                       3.003   Cond. No.                         702.\n",
      "==============================================================================\n",
      "\n",
      "Notes:\n",
      "[1] Standard Errors assume that the covariance matrix of the errors is correctly specified.\n"
     ]
    }
   ],
   "source": [
    "# Fit OLS Regression\n",
    "res = smf.ols(\"Lottery ~ Literacy + np.log(Pop1831)\", data=data).fit()\n",
    "print(res.summary())"
   ]
  },
  {
   "cell_type": "code",
   "execution_count": 5,
   "metadata": {},
   "outputs": [],
   "source": [
    "# Fitting OLS Regression using Numpy Arrays\n",
    "nobs = 100\n",
    "X = np.random.random((nobs, 2))\n",
    "X = sm.add_constant(X)\n",
    "\n",
    "beta = [1, .1, .5] # coef\n",
    "e = np.random.random(nobs) # error\n",
    "y = np.dot(X, beta) + e"
   ]
  },
  {
   "cell_type": "code",
   "execution_count": 6,
   "metadata": {},
   "outputs": [
    {
     "name": "stdout",
     "output_type": "stream",
     "text": [
      "                            OLS Regression Results                            \n",
      "==============================================================================\n",
      "Dep. Variable:                      y   R-squared:                       0.179\n",
      "Model:                            OLS   Adj. R-squared:                  0.162\n",
      "Method:                 Least Squares   F-statistic:                     10.58\n",
      "Date:                Fri, 29 Dec 2023   Prob (F-statistic):           6.98e-05\n",
      "Time:                        03:14:19   Log-Likelihood:                -8.8931\n",
      "No. Observations:                 100   AIC:                             23.79\n",
      "Df Residuals:                      97   BIC:                             31.60\n",
      "Df Model:                           2                                         \n",
      "Covariance Type:            nonrobust                                         \n",
      "==============================================================================\n",
      "                 coef    std err          t      P>|t|      [0.025      0.975]\n",
      "------------------------------------------------------------------------------\n",
      "const          1.5186      0.069     22.072      0.000       1.382       1.655\n",
      "x1             0.0362      0.093      0.392      0.696      -0.147       0.220\n",
      "x2             0.4474      0.098      4.561      0.000       0.253       0.642\n",
      "==============================================================================\n",
      "Omnibus:                        4.684   Durbin-Watson:                   1.987\n",
      "Prob(Omnibus):                  0.096   Jarque-Bera (JB):                2.801\n",
      "Skew:                           0.199   Prob(JB):                        0.246\n",
      "Kurtosis:                       2.283   Cond. No.                         5.19\n",
      "==============================================================================\n",
      "\n",
      "Notes:\n",
      "[1] Standard Errors assume that the covariance matrix of the errors is correctly specified.\n"
     ]
    }
   ],
   "source": [
    "res_2 = sm.OLS(y, X).fit()\n",
    "print(res_2.summary())"
   ]
  },
  {
   "cell_type": "code",
   "execution_count": 7,
   "metadata": {},
   "outputs": [
    {
     "name": "stdout",
     "output_type": "stream",
     "text": [
      "['HC0_se', 'HC1_se', 'HC2_se', 'HC3_se', '_HCCM', '__class__', '__delattr__', '__dict__', '__dir__', '__doc__', '__eq__', '__format__', '__ge__', '__getattribute__', '__gt__', '__hash__', '__init__', '__init_subclass__', '__le__', '__lt__', '__module__', '__ne__', '__new__', '__reduce__', '__reduce_ex__', '__repr__', '__setattr__', '__sizeof__', '__str__', '__subclasshook__', '__weakref__', '_abat_diagonal', '_cache', '_data_attr', '_data_in_cache', '_get_robustcov_results', '_get_wald_nonlinear', '_is_nested', '_transform_predict_exog', '_use_t', '_wexog_singular_values', 'aic', 'bic', 'bse', 'centered_tss', 'compare_f_test', 'compare_lm_test', 'compare_lr_test', 'condition_number', 'conf_int', 'conf_int_el', 'cov_HC0', 'cov_HC1', 'cov_HC2', 'cov_HC3', 'cov_kwds', 'cov_params', 'cov_type', 'df_model', 'df_resid', 'diagn', 'eigenvals', 'el_test', 'ess', 'f_pvalue', 'f_test', 'fittedvalues', 'fvalue', 'get_influence', 'get_prediction', 'get_robustcov_results', 'info_criteria', 'initialize', 'k_constant', 'llf', 'load', 'model', 'mse_model', 'mse_resid', 'mse_total', 'nobs', 'normalized_cov_params', 'outlier_test', 'params', 'predict', 'pvalues', 'remove_data', 'resid', 'resid_pearson', 'rsquared', 'rsquared_adj', 'save', 'scale', 'ssr', 'summary', 'summary2', 't_test', 't_test_pairwise', 'tvalues', 'uncentered_tss', 'use_t', 'wald_test', 'wald_test_terms', 'wresid']\n"
     ]
    }
   ],
   "source": [
    "print(dir(res))"
   ]
  },
  {
   "cell_type": "markdown",
   "metadata": {},
   "source": [
    "#### **Fitting an OLS Model**"
   ]
  },
  {
   "cell_type": "code",
   "execution_count": 8,
   "metadata": {},
   "outputs": [],
   "source": [
    "from patsy import dmatrices"
   ]
  },
  {
   "cell_type": "code",
   "execution_count": 9,
   "metadata": {},
   "outputs": [
    {
     "data": {
      "text/html": [
       "<div>\n",
       "<style scoped>\n",
       "    .dataframe tbody tr th:only-of-type {\n",
       "        vertical-align: middle;\n",
       "    }\n",
       "\n",
       "    .dataframe tbody tr th {\n",
       "        vertical-align: top;\n",
       "    }\n",
       "\n",
       "    .dataframe thead th {\n",
       "        text-align: right;\n",
       "    }\n",
       "</style>\n",
       "<table border=\"1\" class=\"dataframe\">\n",
       "  <thead>\n",
       "    <tr style=\"text-align: right;\">\n",
       "      <th></th>\n",
       "      <th>Department</th>\n",
       "      <th>Lottery</th>\n",
       "      <th>Literacy</th>\n",
       "      <th>Wealth</th>\n",
       "      <th>Region</th>\n",
       "    </tr>\n",
       "  </thead>\n",
       "  <tbody>\n",
       "    <tr>\n",
       "      <th>0</th>\n",
       "      <td>Ain</td>\n",
       "      <td>41</td>\n",
       "      <td>37</td>\n",
       "      <td>73</td>\n",
       "      <td>E</td>\n",
       "    </tr>\n",
       "    <tr>\n",
       "      <th>1</th>\n",
       "      <td>Aisne</td>\n",
       "      <td>38</td>\n",
       "      <td>51</td>\n",
       "      <td>22</td>\n",
       "      <td>N</td>\n",
       "    </tr>\n",
       "    <tr>\n",
       "      <th>2</th>\n",
       "      <td>Allier</td>\n",
       "      <td>66</td>\n",
       "      <td>13</td>\n",
       "      <td>61</td>\n",
       "      <td>C</td>\n",
       "    </tr>\n",
       "    <tr>\n",
       "      <th>3</th>\n",
       "      <td>Basses-Alpes</td>\n",
       "      <td>80</td>\n",
       "      <td>46</td>\n",
       "      <td>76</td>\n",
       "      <td>E</td>\n",
       "    </tr>\n",
       "    <tr>\n",
       "      <th>4</th>\n",
       "      <td>Hautes-Alpes</td>\n",
       "      <td>79</td>\n",
       "      <td>69</td>\n",
       "      <td>83</td>\n",
       "      <td>E</td>\n",
       "    </tr>\n",
       "  </tbody>\n",
       "</table>\n",
       "</div>"
      ],
      "text/plain": [
       "     Department  Lottery  Literacy  Wealth Region\n",
       "0           Ain       41        37      73      E\n",
       "1         Aisne       38        51      22      N\n",
       "2        Allier       66        13      61      C\n",
       "3  Basses-Alpes       80        46      76      E\n",
       "4  Hautes-Alpes       79        69      83      E"
      ]
     },
     "execution_count": 9,
     "metadata": {},
     "output_type": "execute_result"
    }
   ],
   "source": [
    "vars = ['Department', 'Lottery', 'Literacy', 'Wealth', 'Region']\n",
    "df = data[vars]\n",
    "df.head()"
   ]
  },
  {
   "cell_type": "code",
   "execution_count": 10,
   "metadata": {},
   "outputs": [
    {
     "name": "stdout",
     "output_type": "stream",
     "text": [
      "<class 'pandas.core.frame.DataFrame'>\n",
      "RangeIndex: 86 entries, 0 to 85\n",
      "Data columns (total 5 columns):\n",
      " #   Column      Non-Null Count  Dtype \n",
      "---  ------      --------------  ----- \n",
      " 0   Department  86 non-null     object\n",
      " 1   Lottery     86 non-null     int64 \n",
      " 2   Literacy    86 non-null     int64 \n",
      " 3   Wealth      86 non-null     int64 \n",
      " 4   Region      85 non-null     object\n",
      "dtypes: int64(3), object(2)\n",
      "memory usage: 3.5+ KB\n"
     ]
    }
   ],
   "source": [
    "df.info()"
   ]
  },
  {
   "cell_type": "code",
   "execution_count": 11,
   "metadata": {},
   "outputs": [
    {
     "name": "stdout",
     "output_type": "stream",
     "text": [
      "<class 'pandas.core.frame.DataFrame'>\n",
      "Index: 85 entries, 0 to 84\n",
      "Data columns (total 5 columns):\n",
      " #   Column      Non-Null Count  Dtype \n",
      "---  ------      --------------  ----- \n",
      " 0   Department  85 non-null     object\n",
      " 1   Lottery     85 non-null     int64 \n",
      " 2   Literacy    85 non-null     int64 \n",
      " 3   Wealth      85 non-null     int64 \n",
      " 4   Region      85 non-null     object\n",
      "dtypes: int64(3), object(2)\n",
      "memory usage: 4.0+ KB\n"
     ]
    }
   ],
   "source": [
    "df = df.dropna()\n",
    "df.info()"
   ]
  },
  {
   "cell_type": "markdown",
   "metadata": {},
   "source": [
    "**OLS:**\n",
    "\n",
    "$\\beta$\t = $\\frac{x'y}{x'x}$\t\n",
    "\n",
    "- Variable 1: Exogenous/Independent/Regressor\n",
    "- Variables 2: Endogenous/Dependent/Response/Regressand\n",
    "\n",
    "Variable 1 ~ ($\\sum_{}^{}$ Variables 2)"
   ]
  },
  {
   "cell_type": "code",
   "execution_count": 12,
   "metadata": {},
   "outputs": [],
   "source": [
    "y, X = dmatrices('Lottery ~ Literacy + Wealth + Region', \n",
    "                 data=df, return_type='dataframe')"
   ]
  },
  {
   "cell_type": "code",
   "execution_count": 13,
   "metadata": {},
   "outputs": [
    {
     "data": {
      "text/html": [
       "<div>\n",
       "<style scoped>\n",
       "    .dataframe tbody tr th:only-of-type {\n",
       "        vertical-align: middle;\n",
       "    }\n",
       "\n",
       "    .dataframe tbody tr th {\n",
       "        vertical-align: top;\n",
       "    }\n",
       "\n",
       "    .dataframe thead th {\n",
       "        text-align: right;\n",
       "    }\n",
       "</style>\n",
       "<table border=\"1\" class=\"dataframe\">\n",
       "  <thead>\n",
       "    <tr style=\"text-align: right;\">\n",
       "      <th></th>\n",
       "      <th>Lottery</th>\n",
       "    </tr>\n",
       "  </thead>\n",
       "  <tbody>\n",
       "    <tr>\n",
       "      <th>0</th>\n",
       "      <td>41.0</td>\n",
       "    </tr>\n",
       "    <tr>\n",
       "      <th>1</th>\n",
       "      <td>38.0</td>\n",
       "    </tr>\n",
       "    <tr>\n",
       "      <th>2</th>\n",
       "      <td>66.0</td>\n",
       "    </tr>\n",
       "    <tr>\n",
       "      <th>3</th>\n",
       "      <td>80.0</td>\n",
       "    </tr>\n",
       "    <tr>\n",
       "      <th>4</th>\n",
       "      <td>79.0</td>\n",
       "    </tr>\n",
       "  </tbody>\n",
       "</table>\n",
       "</div>"
      ],
      "text/plain": [
       "   Lottery\n",
       "0     41.0\n",
       "1     38.0\n",
       "2     66.0\n",
       "3     80.0\n",
       "4     79.0"
      ]
     },
     "execution_count": 13,
     "metadata": {},
     "output_type": "execute_result"
    }
   ],
   "source": [
    "y.head()"
   ]
  },
  {
   "cell_type": "code",
   "execution_count": 14,
   "metadata": {},
   "outputs": [
    {
     "data": {
      "text/html": [
       "<div>\n",
       "<style scoped>\n",
       "    .dataframe tbody tr th:only-of-type {\n",
       "        vertical-align: middle;\n",
       "    }\n",
       "\n",
       "    .dataframe tbody tr th {\n",
       "        vertical-align: top;\n",
       "    }\n",
       "\n",
       "    .dataframe thead th {\n",
       "        text-align: right;\n",
       "    }\n",
       "</style>\n",
       "<table border=\"1\" class=\"dataframe\">\n",
       "  <thead>\n",
       "    <tr style=\"text-align: right;\">\n",
       "      <th></th>\n",
       "      <th>Intercept</th>\n",
       "      <th>Region[T.E]</th>\n",
       "      <th>Region[T.N]</th>\n",
       "      <th>Region[T.S]</th>\n",
       "      <th>Region[T.W]</th>\n",
       "      <th>Literacy</th>\n",
       "      <th>Wealth</th>\n",
       "    </tr>\n",
       "  </thead>\n",
       "  <tbody>\n",
       "    <tr>\n",
       "      <th>0</th>\n",
       "      <td>1.0</td>\n",
       "      <td>1.0</td>\n",
       "      <td>0.0</td>\n",
       "      <td>0.0</td>\n",
       "      <td>0.0</td>\n",
       "      <td>37.0</td>\n",
       "      <td>73.0</td>\n",
       "    </tr>\n",
       "    <tr>\n",
       "      <th>1</th>\n",
       "      <td>1.0</td>\n",
       "      <td>0.0</td>\n",
       "      <td>1.0</td>\n",
       "      <td>0.0</td>\n",
       "      <td>0.0</td>\n",
       "      <td>51.0</td>\n",
       "      <td>22.0</td>\n",
       "    </tr>\n",
       "    <tr>\n",
       "      <th>2</th>\n",
       "      <td>1.0</td>\n",
       "      <td>0.0</td>\n",
       "      <td>0.0</td>\n",
       "      <td>0.0</td>\n",
       "      <td>0.0</td>\n",
       "      <td>13.0</td>\n",
       "      <td>61.0</td>\n",
       "    </tr>\n",
       "    <tr>\n",
       "      <th>3</th>\n",
       "      <td>1.0</td>\n",
       "      <td>1.0</td>\n",
       "      <td>0.0</td>\n",
       "      <td>0.0</td>\n",
       "      <td>0.0</td>\n",
       "      <td>46.0</td>\n",
       "      <td>76.0</td>\n",
       "    </tr>\n",
       "    <tr>\n",
       "      <th>4</th>\n",
       "      <td>1.0</td>\n",
       "      <td>1.0</td>\n",
       "      <td>0.0</td>\n",
       "      <td>0.0</td>\n",
       "      <td>0.0</td>\n",
       "      <td>69.0</td>\n",
       "      <td>83.0</td>\n",
       "    </tr>\n",
       "  </tbody>\n",
       "</table>\n",
       "</div>"
      ],
      "text/plain": [
       "   Intercept  Region[T.E]  Region[T.N]  Region[T.S]  Region[T.W]  Literacy  \\\n",
       "0        1.0          1.0          0.0          0.0          0.0      37.0   \n",
       "1        1.0          0.0          1.0          0.0          0.0      51.0   \n",
       "2        1.0          0.0          0.0          0.0          0.0      13.0   \n",
       "3        1.0          1.0          0.0          0.0          0.0      46.0   \n",
       "4        1.0          1.0          0.0          0.0          0.0      69.0   \n",
       "\n",
       "   Wealth  \n",
       "0    73.0  \n",
       "1    22.0  \n",
       "2    61.0  \n",
       "3    76.0  \n",
       "4    83.0  "
      ]
     },
     "execution_count": 14,
     "metadata": {},
     "output_type": "execute_result"
    }
   ],
   "source": [
    "X.head()"
   ]
  },
  {
   "cell_type": "code",
   "execution_count": 15,
   "metadata": {},
   "outputs": [
    {
     "name": "stdout",
     "output_type": "stream",
     "text": [
      "                            OLS Regression Results                            \n",
      "==============================================================================\n",
      "Dep. Variable:                Lottery   R-squared:                       0.338\n",
      "Model:                            OLS   Adj. R-squared:                  0.287\n",
      "Method:                 Least Squares   F-statistic:                     6.636\n",
      "Date:                Fri, 29 Dec 2023   Prob (F-statistic):           1.07e-05\n",
      "Time:                        03:14:19   Log-Likelihood:                -375.30\n",
      "No. Observations:                  85   AIC:                             764.6\n",
      "Df Residuals:                      78   BIC:                             781.7\n",
      "Df Model:                           6                                         \n",
      "Covariance Type:            nonrobust                                         \n",
      "===============================================================================\n",
      "                  coef    std err          t      P>|t|      [0.025      0.975]\n",
      "-------------------------------------------------------------------------------\n",
      "Intercept      38.6517      9.456      4.087      0.000      19.826      57.478\n",
      "Region[T.E]   -15.4278      9.727     -1.586      0.117     -34.793       3.938\n",
      "Region[T.N]   -10.0170      9.260     -1.082      0.283     -28.453       8.419\n",
      "Region[T.S]    -4.5483      7.279     -0.625      0.534     -19.039       9.943\n",
      "Region[T.W]   -10.0913      7.196     -1.402      0.165     -24.418       4.235\n",
      "Literacy       -0.1858      0.210     -0.886      0.378      -0.603       0.232\n",
      "Wealth          0.4515      0.103      4.390      0.000       0.247       0.656\n",
      "==============================================================================\n",
      "Omnibus:                        3.049   Durbin-Watson:                   1.785\n",
      "Prob(Omnibus):                  0.218   Jarque-Bera (JB):                2.694\n",
      "Skew:                          -0.340   Prob(JB):                        0.260\n",
      "Kurtosis:                       2.454   Cond. No.                         371.\n",
      "==============================================================================\n",
      "\n",
      "Notes:\n",
      "[1] Standard Errors assume that the covariance matrix of the errors is correctly specified.\n"
     ]
    }
   ],
   "source": [
    "# Describe Model\n",
    "mod = sm.OLS(y, X)\n",
    "\n",
    "# Fit Model\n",
    "res = mod.fit()\n",
    "\n",
    "# Summarize Model\n",
    "print(res.summary())"
   ]
  },
  {
   "cell_type": "code",
   "execution_count": 16,
   "metadata": {},
   "outputs": [
    {
     "name": "stdout",
     "output_type": "stream",
     "text": [
      "Intercept      38.651655\n",
      "Region[T.E]   -15.427785\n",
      "Region[T.N]   -10.016961\n",
      "Region[T.S]    -4.548257\n",
      "Region[T.W]   -10.091276\n",
      "Literacy       -0.185819\n",
      "Wealth          0.451475\n",
      "dtype: float64\n",
      "===============\n",
      "0.3379508691928822\n"
     ]
    }
   ],
   "source": [
    "print(res.params)\n",
    "print(\"===============\")\n",
    "print(res.rsquared)"
   ]
  },
  {
   "cell_type": "code",
   "execution_count": 17,
   "metadata": {},
   "outputs": [
    {
     "data": {
      "text/plain": [
       "(0.847233997615691, 0.6997965543621644)"
      ]
     },
     "execution_count": 17,
     "metadata": {},
     "output_type": "execute_result"
    }
   ],
   "source": [
    "# Linear Rainbow = (F Stat, P Value)\n",
    "sm.stats.linear_rainbow(res)"
   ]
  },
  {
   "cell_type": "code",
   "execution_count": 18,
   "metadata": {},
   "outputs": [
    {
     "name": "stdout",
     "output_type": "stream",
     "text": [
      "\n",
      "    Rainbow test for linearity\n",
      "\n",
      "    The null hypothesis is the fit of the model using full sample is the same\n",
      "    as using a central subset. The alternative is that the fits are difference.\n",
      "    The rainbow test has power against many different forms of nonlinearity.\n",
      "\n",
      "    Parameters\n",
      "    ----------\n",
      "    res : RegressionResults\n",
      "        A results instance from a linear regression.\n",
      "    frac : float, default 0.5\n",
      "        The fraction of the data to include in the center model.\n",
      "    order_by : {ndarray, str, List[str]}, default None\n",
      "        If an ndarray, the values in the array are used to sort the\n",
      "        observations. If a string or a list of strings, these are interpreted\n",
      "        as column name(s) which are then used to lexicographically sort the\n",
      "        data.\n",
      "    use_distance : bool, default False\n",
      "        Flag indicating whether data should be ordered by the Mahalanobis\n",
      "        distance to the center.\n",
      "    center : {float, int}, default None\n",
      "        If a float, the value must be in [0, 1] and the center is center *\n",
      "        nobs of the ordered data.  If an integer, must be in [0, nobs) and\n",
      "        is interpreted as the observation of the ordered data to use.\n",
      "\n",
      "    Returns\n",
      "    -------\n",
      "    fstat : float\n",
      "        The test statistic based on the F test.\n",
      "    pvalue : float\n",
      "        The pvalue of the test.\n",
      "\n",
      "    Notes\n",
      "    -----\n",
      "    This test assumes residuals are homoskedastic and may reject a correct\n",
      "    linear specification if the residuals are heteroskedastic.\n",
      "    \n"
     ]
    }
   ],
   "source": [
    "print(sm.stats.linear_rainbow.__doc__)"
   ]
  },
  {
   "cell_type": "markdown",
   "metadata": {},
   "source": [
    "The `plot_partregress` function is used to create a partial regression plot, visualizing the relationship between the dependent variable ('Lottery') and one independent variable ('Wealth') while controlling for the effects of other variables ('Region' and 'Literacy'). 'Wealth' is separate from the list ['Region', 'Literacy'] to show the partial relationship between 'Lottery' and 'Wealth' while holding the other variables constant. Each line in the plot represents this relationship for a specific level of the other variables, allowing the examination of how the 'Lottery-Wealth' relationship changes when considering the effects of 'Region' and 'Literacy.'"
   ]
  },
  {
   "cell_type": "code",
   "execution_count": 19,
   "metadata": {},
   "outputs": [
    {
     "data": {
      "image/png": "[encoded data removed]",
      "text/plain": [
       "<Figure size 640x480 with 1 Axes>"
      ]
     },
     "execution_count": 19,
     "metadata": {},
     "output_type": "execute_result"
    },
    {
     "data": {
      "image/png": "[encoded data removed]",
      "text/plain": [
       "<Figure size 640x480 with 1 Axes>"
      ]
     },
     "metadata": {},
     "output_type": "display_data"
    }
   ],
   "source": [
    "sm.graphics.plot_partregress(\"Lottery\", 'Wealth',['Region', 'Literacy'],\n",
    "                             data=df, obs_labels = False )"
   ]
  },
  {
   "cell_type": "markdown",
   "metadata": {},
   "source": [
    "#### **R Style Model Fitting**"
   ]
  },
  {
   "cell_type": "code",
   "execution_count": 22,
   "metadata": {},
   "outputs": [
    {
     "name": "stdout",
     "output_type": "stream",
     "text": [
      "                            OLS Regression Results                            \n",
      "==============================================================================\n",
      "Dep. Variable:                Lottery   R-squared:                       0.338\n",
      "Model:                            OLS   Adj. R-squared:                  0.287\n",
      "Method:                 Least Squares   F-statistic:                     6.636\n",
      "Date:                Fri, 29 Dec 2023   Prob (F-statistic):           1.07e-05\n",
      "Time:                        19:29:29   Log-Likelihood:                -375.30\n",
      "No. Observations:                  85   AIC:                             764.6\n",
      "Df Residuals:                      78   BIC:                             781.7\n",
      "Df Model:                           6                                         \n",
      "Covariance Type:            nonrobust                                         \n",
      "==================================================================================\n",
      "                     coef    std err          t      P>|t|      [0.025      0.975]\n",
      "----------------------------------------------------------------------------------\n",
      "Intercept         38.6517      9.456      4.087      0.000      19.826      57.478\n",
      "C(Region)[T.E]   -15.4278      9.727     -1.586      0.117     -34.793       3.938\n",
      "C(Region)[T.N]   -10.0170      9.260     -1.082      0.283     -28.453       8.419\n",
      "C(Region)[T.S]    -4.5483      7.279     -0.625      0.534     -19.039       9.943\n",
      "C(Region)[T.W]   -10.0913      7.196     -1.402      0.165     -24.418       4.235\n",
      "Literacy          -0.1858      0.210     -0.886      0.378      -0.603       0.232\n",
      "Wealth             0.4515      0.103      4.390      0.000       0.247       0.656\n",
      "==============================================================================\n",
      "Omnibus:                        3.049   Durbin-Watson:                   1.785\n",
      "Prob(Omnibus):                  0.218   Jarque-Bera (JB):                2.694\n",
      "Skew:                          -0.340   Prob(JB):                        0.260\n",
      "Kurtosis:                       2.454   Cond. No.                         371.\n",
      "==============================================================================\n",
      "\n",
      "Notes:\n",
      "[1] Standard Errors assume that the covariance matrix of the errors is correctly specified.\n"
     ]
    }
   ],
   "source": [
    "# To explicitly define Region as a categorical variable: 'C(variable)'\n",
    "res_c = smf.ols(formula=\"Lottery ~ Literacy + Wealth + C(Region)\", data=df).fit()\n",
    "print(res_c.summary())"
   ]
  },
  {
   "cell_type": "code",
   "execution_count": 23,
   "metadata": {},
   "outputs": [
    {
     "name": "stdout",
     "output_type": "stream",
     "text": [
      "                            OLS Regression Results                            \n",
      "==============================================================================\n",
      "Dep. Variable:                Lottery   R-squared:                       0.338\n",
      "Model:                            OLS   Adj. R-squared:                  0.287\n",
      "Method:                 Least Squares   F-statistic:                     6.636\n",
      "Date:                Fri, 29 Dec 2023   Prob (F-statistic):           1.07e-05\n",
      "Time:                        19:30:36   Log-Likelihood:                -375.30\n",
      "No. Observations:                  85   AIC:                             764.6\n",
      "Df Residuals:                      78   BIC:                             781.7\n",
      "Df Model:                           6                                         \n",
      "Covariance Type:            nonrobust                                         \n",
      "================================================================================\n",
      "                   coef    std err          t      P>|t|      [0.025      0.975]\n",
      "--------------------------------------------------------------------------------\n",
      "C(Region)[C]    38.6517      9.456      4.087      0.000      19.826      57.478\n",
      "C(Region)[E]    23.2239     14.931      1.555      0.124      -6.501      52.949\n",
      "C(Region)[N]    28.6347     13.127      2.181      0.032       2.501      54.769\n",
      "C(Region)[S]    34.1034     10.370      3.289      0.002      13.459      54.748\n",
      "C(Region)[W]    28.5604     10.018      2.851      0.006       8.616      48.505\n",
      "Literacy        -0.1858      0.210     -0.886      0.378      -0.603       0.232\n",
      "Wealth           0.4515      0.103      4.390      0.000       0.247       0.656\n",
      "==============================================================================\n",
      "Omnibus:                        3.049   Durbin-Watson:                   1.785\n",
      "Prob(Omnibus):                  0.218   Jarque-Bera (JB):                2.694\n",
      "Skew:                          -0.340   Prob(JB):                        0.260\n",
      "Kurtosis:                       2.454   Cond. No.                         653.\n",
      "==============================================================================\n",
      "\n",
      "Notes:\n",
      "[1] Standard Errors assume that the covariance matrix of the errors is correctly specified.\n"
     ]
    }
   ],
   "source": [
    "# To define a model and remove the constant from the equation: - 1\n",
    "res_nc = smf.ols(formula=\"Lottery ~ Literacy + Wealth + C(Region) - 1\", data=df).fit()\n",
    "print(res_nc.summary())"
   ]
  },
  {
   "cell_type": "code",
   "execution_count": 24,
   "metadata": {},
   "outputs": [
    {
     "name": "stdout",
     "output_type": "stream",
     "text": [
      "                                 OLS Regression Results                                \n",
      "=======================================================================================\n",
      "Dep. Variable:                Lottery   R-squared (uncentered):                   0.542\n",
      "Model:                            OLS   Adj. R-squared (uncentered):              0.536\n",
      "Method:                 Least Squares   F-statistic:                              99.33\n",
      "Date:                Fri, 29 Dec 2023   Prob (F-statistic):                    6.79e-16\n",
      "Time:                        19:32:16   Log-Likelihood:                         -419.22\n",
      "No. Observations:                  85   AIC:                                      840.4\n",
      "Df Residuals:                      84   BIC:                                      842.9\n",
      "Df Model:                           1                                                  \n",
      "Covariance Type:            nonrobust                                                  \n",
      "===================================================================================\n",
      "                      coef    std err          t      P>|t|      [0.025      0.975]\n",
      "-----------------------------------------------------------------------------------\n",
      "Literacy:Wealth     0.0182      0.002      9.966      0.000       0.015       0.022\n",
      "==============================================================================\n",
      "Omnibus:                        6.800   Durbin-Watson:                   1.536\n",
      "Prob(Omnibus):                  0.033   Jarque-Bera (JB):                6.531\n",
      "Skew:                          -0.675   Prob(JB):                       0.0382\n",
      "Kurtosis:                       3.150   Cond. No.                         1.00\n",
      "==============================================================================\n",
      "\n",
      "Notes:\n",
      "[1] R² is computed without centering (uncentered) since the model does not contain a constant.\n",
      "[2] Standard Errors assume that the covariance matrix of the errors is correctly specified.\n",
      "==============\n",
      "Literacy:Wealth    0.018176\n",
      "dtype: float64\n"
     ]
    }
   ],
   "source": [
    "# Interactions: Matrix Version\n",
    "res_int1 = smf.ols(formula=\"Lottery ~ Literacy:Wealth - 1\", data=df).fit()\n",
    "print(res_int1.summary())\n",
    "print(\"==============\")\n",
    "print(res_int1.params)"
   ]
  },
  {
   "cell_type": "code",
   "execution_count": 25,
   "metadata": {},
   "outputs": [
    {
     "name": "stdout",
     "output_type": "stream",
     "text": [
      "                                 OLS Regression Results                                \n",
      "=======================================================================================\n",
      "Dep. Variable:                Lottery   R-squared (uncentered):                   0.817\n",
      "Model:                            OLS   Adj. R-squared (uncentered):              0.811\n",
      "Method:                 Least Squares   F-statistic:                              122.3\n",
      "Date:                Fri, 29 Dec 2023   Prob (F-statistic):                    3.55e-30\n",
      "Time:                        19:32:49   Log-Likelihood:                         -380.15\n",
      "No. Observations:                  85   AIC:                                      766.3\n",
      "Df Residuals:                      82   BIC:                                      773.6\n",
      "Df Model:                           3                                                  \n",
      "Covariance Type:            nonrobust                                                  \n",
      "===================================================================================\n",
      "                      coef    std err          t      P>|t|      [0.025      0.975]\n",
      "-----------------------------------------------------------------------------------\n",
      "Literacy            0.4274      0.099      4.297      0.000       0.230       0.625\n",
      "Wealth              1.0810      0.104     10.397      0.000       0.874       1.288\n",
      "Literacy:Wealth    -0.0136      0.003     -4.265      0.000      -0.020      -0.007\n",
      "==============================================================================\n",
      "Omnibus:                        2.001   Durbin-Watson:                   1.946\n",
      "Prob(Omnibus):                  0.368   Jarque-Bera (JB):                2.002\n",
      "Skew:                          -0.321   Prob(JB):                        0.367\n",
      "Kurtosis:                       2.609   Cond. No.                         89.8\n",
      "==============================================================================\n",
      "\n",
      "Notes:\n",
      "[1] R² is computed without centering (uncentered) since the model does not contain a constant.\n",
      "[2] Standard Errors assume that the covariance matrix of the errors is correctly specified.\n",
      "==============\n",
      "Literacy           0.427386\n",
      "Wealth             1.080987\n",
      "Literacy:Wealth   -0.013609\n",
      "dtype: float64\n"
     ]
    }
   ],
   "source": [
    "# Interactions between indivdual columns\n",
    "res_int2 = smf.ols(formula=\"Lottery ~ Literacy*Wealth - 1\", data=df).fit()\n",
    "print(res_int2.summary())\n",
    "print(\"==============\")\n",
    "print(res_int2.params)"
   ]
  },
  {
   "cell_type": "code",
   "execution_count": 26,
   "metadata": {},
   "outputs": [
    {
     "name": "stdout",
     "output_type": "stream",
     "text": [
      "                            OLS Regression Results                            \n",
      "==============================================================================\n",
      "Dep. Variable:                Lottery   R-squared:                       0.161\n",
      "Model:                            OLS   Adj. R-squared:                  0.151\n",
      "Method:                 Least Squares   F-statistic:                     15.89\n",
      "Date:                Fri, 29 Dec 2023   Prob (F-statistic):           0.000144\n",
      "Time:                        19:34:35   Log-Likelihood:                -385.38\n",
      "No. Observations:                  85   AIC:                             774.8\n",
      "Df Residuals:                      83   BIC:                             779.7\n",
      "Df Model:                           1                                         \n",
      "Covariance Type:            nonrobust                                         \n",
      "====================================================================================\n",
      "                       coef    std err          t      P>|t|      [0.025      0.975]\n",
      "------------------------------------------------------------------------------------\n",
      "Intercept          115.6091     18.374      6.292      0.000      79.064     152.155\n",
      "np.log(Literacy)   -20.3940      5.116     -3.986      0.000     -30.570     -10.218\n",
      "==============================================================================\n",
      "Omnibus:                        8.907   Durbin-Watson:                   2.019\n",
      "Prob(Omnibus):                  0.012   Jarque-Bera (JB):                3.299\n",
      "Skew:                           0.108   Prob(JB):                        0.192\n",
      "Kurtosis:                       2.059   Cond. No.                         28.7\n",
      "==============================================================================\n",
      "\n",
      "Notes:\n",
      "[1] Standard Errors assume that the covariance matrix of the errors is correctly specified.\n"
     ]
    }
   ],
   "source": [
    "# Functions\n",
    "res = smf.ols(formula=\"Lottery ~ np.log(Literacy)\", data=df).fit()\n",
    "print(res.summary())"
   ]
  },
  {
   "cell_type": "code",
   "execution_count": 30,
   "metadata": {},
   "outputs": [],
   "source": [
    "def log_plus_1(x):\n",
    "    return np.log(x + 1)"
   ]
  },
  {
   "cell_type": "code",
   "execution_count": 31,
   "metadata": {},
   "outputs": [
    {
     "name": "stdout",
     "output_type": "stream",
     "text": [
      "                            OLS Regression Results                            \n",
      "==============================================================================\n",
      "Dep. Variable:                Lottery   R-squared:                       0.161\n",
      "Model:                            OLS   Adj. R-squared:                  0.151\n",
      "Method:                 Least Squares   F-statistic:                     15.89\n",
      "Date:                Fri, 29 Dec 2023   Prob (F-statistic):           0.000144\n",
      "Time:                        19:37:02   Log-Likelihood:                -385.38\n",
      "No. Observations:                  85   AIC:                             774.8\n",
      "Df Residuals:                      83   BIC:                             779.7\n",
      "Df Model:                           1                                         \n",
      "Covariance Type:            nonrobust                                         \n",
      "========================================================================================\n",
      "                           coef    std err          t      P>|t|      [0.025      0.975]\n",
      "----------------------------------------------------------------------------------------\n",
      "Intercept              118.7162     19.147      6.200      0.000      80.634     156.798\n",
      "log_plus_1(Literacy)   -21.0803      5.288     -3.986      0.000     -31.599     -10.562\n",
      "==============================================================================\n",
      "Omnibus:                        8.809   Durbin-Watson:                   2.019\n",
      "Prob(Omnibus):                  0.012   Jarque-Bera (JB):                3.278\n",
      "Skew:                           0.106   Prob(JB):                        0.194\n",
      "Kurtosis:                       2.062   Cond. No.                         30.1\n",
      "==============================================================================\n",
      "\n",
      "Notes:\n",
      "[1] Standard Errors assume that the covariance matrix of the errors is correctly specified.\n"
     ]
    }
   ],
   "source": [
    "# Functions\n",
    "res = smf.ols(formula=\"Lottery ~ log_plus_1(Literacy)\", data=df).fit()\n",
    "print(res.summary())"
   ]
  },
  {
   "cell_type": "markdown",
   "metadata": {},
   "source": [
    "#### **Ordinary Least Squares**"
   ]
  },
  {
   "cell_type": "code",
   "execution_count": 40,
   "metadata": {},
   "outputs": [],
   "source": [
    "import matplotlib.pyplot as plt \n",
    "from statsmodels.sandbox.regression.predstd import wls_prediction_std"
   ]
  },
  {
   "cell_type": "code",
   "execution_count": 33,
   "metadata": {},
   "outputs": [],
   "source": [
    "# Fake Data\n",
    "nsample = 100\n",
    "x = np.linspace(0, 10, 100)\n",
    "X = np.column_stack((x, x**2))\n",
    "beta = np.array([1, 0.1, 10])\n",
    "e = np.random.normal(size=nsample)"
   ]
  },
  {
   "cell_type": "code",
   "execution_count": 34,
   "metadata": {},
   "outputs": [],
   "source": [
    "X = sm.add_constant(X)\n",
    "y = np.dot(X, beta) + e"
   ]
  },
  {
   "cell_type": "code",
   "execution_count": 35,
   "metadata": {},
   "outputs": [
    {
     "name": "stdout",
     "output_type": "stream",
     "text": [
      "                            OLS Regression Results                            \n",
      "==============================================================================\n",
      "Dep. Variable:                      y   R-squared:                       1.000\n",
      "Model:                            OLS   Adj. R-squared:                  1.000\n",
      "Method:                 Least Squares   F-statistic:                 4.265e+06\n",
      "Date:                Fri, 29 Dec 2023   Prob (F-statistic):          1.61e-240\n",
      "Time:                        19:44:24   Log-Likelihood:                -143.56\n",
      "No. Observations:                 100   AIC:                             293.1\n",
      "Df Residuals:                      97   BIC:                             300.9\n",
      "Df Model:                           2                                         \n",
      "Covariance Type:            nonrobust                                         \n",
      "==============================================================================\n",
      "                 coef    std err          t      P>|t|      [0.025      0.975]\n",
      "------------------------------------------------------------------------------\n",
      "const          1.2064      0.304      3.973      0.000       0.604       1.809\n",
      "x1             0.0431      0.140      0.307      0.760      -0.235       0.322\n",
      "x2            10.0030      0.014    736.652      0.000       9.976      10.030\n",
      "==============================================================================\n",
      "Omnibus:                        1.128   Durbin-Watson:                   2.078\n",
      "Prob(Omnibus):                  0.569   Jarque-Bera (JB):                1.191\n",
      "Skew:                          -0.183   Prob(JB):                        0.551\n",
      "Kurtosis:                       2.610   Cond. No.                         144.\n",
      "==============================================================================\n",
      "\n",
      "Notes:\n",
      "[1] Standard Errors assume that the covariance matrix of the errors is correctly specified.\n"
     ]
    }
   ],
   "source": [
    "# Model fit and summary\n",
    "res = sm.OLS(y, X).fit()\n",
    "print(res.summary())"
   ]
  },
  {
   "cell_type": "code",
   "execution_count": 36,
   "metadata": {},
   "outputs": [],
   "source": [
    "# Fake Data 2\n",
    "nsample = 100\n",
    "sig = 0.5\n",
    "x = np.linspace(0, 20, nsample)\n",
    "X = np.column_stack((x, np.sin(x), (x-5)**2, np.ones(nsample)))\n",
    "beta = np.array([0.5, 0.5, -0.02, 5])\n",
    "y_true = np.dot(X, beta)\n",
    "y = y_true + sig * np.random.normal(size=nsample) # Adds noise"
   ]
  },
  {
   "cell_type": "code",
   "execution_count": 38,
   "metadata": {},
   "outputs": [
    {
     "name": "stdout",
     "output_type": "stream",
     "text": [
      "                            OLS Regression Results                            \n",
      "==============================================================================\n",
      "Dep. Variable:                      y   R-squared:                       0.927\n",
      "Model:                            OLS   Adj. R-squared:                  0.925\n",
      "Method:                 Least Squares   F-statistic:                     408.4\n",
      "Date:                Fri, 29 Dec 2023   Prob (F-statistic):           1.67e-54\n",
      "Time:                        19:48:54   Log-Likelihood:                -72.462\n",
      "No. Observations:                 100   AIC:                             152.9\n",
      "Df Residuals:                      96   BIC:                             163.3\n",
      "Df Model:                           3                                         \n",
      "Covariance Type:            nonrobust                                         \n",
      "==============================================================================\n",
      "                 coef    std err          t      P>|t|      [0.025      0.975]\n",
      "------------------------------------------------------------------------------\n",
      "x1             0.4520      0.019     23.442      0.000       0.414       0.490\n",
      "x2             0.4794      0.075      6.434      0.000       0.332       0.627\n",
      "x3            -0.0151      0.002     -8.919      0.000      -0.018      -0.012\n",
      "const          5.1605      0.125     41.278      0.000       4.912       5.409\n",
      "==============================================================================\n",
      "Omnibus:                        1.322   Durbin-Watson:                   1.927\n",
      "Prob(Omnibus):                  0.516   Jarque-Bera (JB):                1.382\n",
      "Skew:                          -0.220   Prob(JB):                        0.501\n",
      "Kurtosis:                       2.628   Cond. No.                         223.\n",
      "==============================================================================\n",
      "\n",
      "Notes:\n",
      "[1] Standard Errors assume that the covariance matrix of the errors is correctly specified.\n"
     ]
    }
   ],
   "source": [
    "res_2 = sm.OLS(y, X).fit()\n",
    "print(res_2.summary())"
   ]
  },
  {
   "cell_type": "code",
   "execution_count": 39,
   "metadata": {},
   "outputs": [
    {
     "name": "stdout",
     "output_type": "stream",
     "text": [
      "Parameters: [ 0.45197692  0.47942715 -0.01511098  5.16047687]\n",
      "Std Errors: [0.01928097 0.07450953 0.00169426 0.12501776]\n",
      "Pred Values: [ 4.78270225  5.00011776  5.21238719  5.41575703  5.60678558  5.78248293\n",
      "  5.94043259  6.07888975  6.19685227  6.29410142  6.3712108   6.429523\n",
      "  6.47109498  6.49861443  6.51529042  6.52472291  6.5307563   6.53732309\n",
      "  6.54828391  6.56727049  6.59753797  6.64183248  6.70227947  6.78029722\n",
      "  6.87653919  6.99086743  7.12235819  7.26933947  7.42945908  7.59978027\n",
      "  7.77690117  7.9570932   8.13645267  8.31105961  8.47713718  8.63120529\n",
      "  8.77022213  8.89170795  8.99384584  9.0755557   9.13653814  9.17728664\n",
      "  9.19906751  9.20386839  9.19431736  9.1735761   9.14521125  9.11304936\n",
      "  9.08102128  9.05300221  9.03265416  9.02327692  9.02767394  9.04803822\n",
      "  9.08586315  9.14188179  9.216037    9.30748381  9.41462377  9.53516996\n",
      "  9.66624002  9.80447337  9.94616792 10.08743063 10.22433584 10.35308498\n",
      " 10.47016102 10.57247159 10.65747468 10.72328208 10.76873618 10.79345702\n",
      " 10.7978578  10.78312801 10.75118509 10.70459645 10.64647499 10.58035256\n",
      " 10.51003625 10.43945356 10.37249267 10.31284426 10.26385145 10.22837375\n",
      " 10.20867084 10.20631058 10.22210529 10.25607869 10.30746494 10.37473981\n",
      " 10.45568262 10.54746663 10.64677397 10.7499306  10.85305574 10.95221974\n",
      " 11.0436039  11.12365576 11.18923363 11.23773437]\n",
      "R Squared: 0.9273387093357762\n"
     ]
    }
   ],
   "source": [
    "print(f\"Parameters: {res_2.params}\")\n",
    "print(f\"Std Errors: {res_2.bse}\")\n",
    "print(f'Pred Values: {res_2.predict()}')\n",
    "print(f'R Squared: {res_2.rsquared}')"
   ]
  },
  {
   "cell_type": "code",
   "execution_count": 46,
   "metadata": {},
   "outputs": [],
   "source": [
    "def plot_compare(res):\n",
    "    predict_std, iv_1, iv_y = wls_prediction_std(res)\n",
    "    fig, ax = plt.subplots(figsize=(10, 6))\n",
    "\n",
    "    ax.plot(x, y, 'o', label = 'data')\n",
    "    ax.plot(x, y_true, 'b-', label='True')\n",
    "    ax.plot(x, res.fittedvalues, 'r--', label = 'OLS')\n",
    "    ax.plot(x, iv_1, 'g--')\n",
    "    ax.plot(x, iv_y, 'g--', label = 'Error')\n",
    "    ax.legend(loc = 'best')"
   ]
  },
  {
   "cell_type": "code",
   "execution_count": 47,
   "metadata": {},
   "outputs": [
    {
     "data": {
      "image/png": "[encoded data removed]",
      "text/plain": [
       "<Figure size 1000x600 with 1 Axes>"
      ]
     },
     "metadata": {},
     "output_type": "display_data"
    }
   ],
   "source": [
    "plot_compare(res_2)"
   ]
  }
 ],
 "metadata": {
  "kernelspec": {
   "display_name": "Python 3",
   "language": "python",
   "name": "python3"
  },
  "language_info": {
   "codemirror_mode": {
    "name": "ipython",
    "version": 3
   },
   "file_extension": ".py",
   "mimetype": "text/x-python",
   "name": "python",
   "nbconvert_exporter": "python",
   "pygments_lexer": "ipython3",
   "version": "3.9.6"
  }
 },
 "nbformat": 4,
 "nbformat_minor": 2
}
